{
 "cells": [
  {
   "cell_type": "code",
   "execution_count": 1,
   "id": "69f3f222",
   "metadata": {},
   "outputs": [],
   "source": [
    "import numpy as np # linear algebra\n",
    "import pandas as pd \n",
    "from sklearn.utils import shuffle\n",
    "from sklearn.model_selection import train_test_split\n",
    "from sklearn.pipeline import Pipeline\n",
    "from sklearn.feature_extraction.text import TfidfVectorizer\n",
    "from sklearn.feature_selection import chi2, SelectKBest\n",
    "from sklearn.svm import LinearSVC"
   ]
  },
  {
   "cell_type": "code",
   "execution_count": 2,
   "id": "6fc1ad4c",
   "metadata": {},
   "outputs": [],
   "source": [
    "df_original = pd.read_csv('train_40k.csv')"
   ]
  },
  {
   "cell_type": "code",
   "execution_count": 3,
   "id": "89415521",
   "metadata": {},
   "outputs": [],
   "source": [
    "# the only columns I care about are these two, as I'll be using the 'Text' column to predict the feature 'Cat1'\n",
    "\n",
    "columns = ['Text', 'Cat1']\n",
    "\n",
    "df = shuffle(df_original[columns])"
   ]
  },
  {
   "cell_type": "code",
   "execution_count": 4,
   "id": "11c46222",
   "metadata": {},
   "outputs": [
    {
     "data": {
      "text/plain": [
       "toys games              10266\n",
       "health personal care     9772\n",
       "beauty                   5846\n",
       "baby products            5637\n",
       "pet supplies             4862\n",
       "grocery gourmet food     3617\n",
       "Name: Cat1, dtype: int64"
      ]
     },
     "execution_count": 4,
     "metadata": {},
     "output_type": "execute_result"
    }
   ],
   "source": [
    "df.Cat1.value_counts()"
   ]
  },
  {
   "cell_type": "code",
   "execution_count": 5,
   "id": "244cc85c",
   "metadata": {},
   "outputs": [
    {
     "data": {
      "text/html": [
       "<div>\n",
       "<style scoped>\n",
       "    .dataframe tbody tr th:only-of-type {\n",
       "        vertical-align: middle;\n",
       "    }\n",
       "\n",
       "    .dataframe tbody tr th {\n",
       "        vertical-align: top;\n",
       "    }\n",
       "\n",
       "    .dataframe thead th {\n",
       "        text-align: right;\n",
       "    }\n",
       "</style>\n",
       "<table border=\"1\" class=\"dataframe\">\n",
       "  <thead>\n",
       "    <tr style=\"text-align: right;\">\n",
       "      <th></th>\n",
       "      <th>Text</th>\n",
       "      <th>Cat1</th>\n",
       "    </tr>\n",
       "  </thead>\n",
       "  <tbody>\n",
       "    <tr>\n",
       "      <th>11015</th>\n",
       "      <td>I was looking through the stuff on Amazon the ...</td>\n",
       "      <td>health personal care</td>\n",
       "    </tr>\n",
       "    <tr>\n",
       "      <th>33137</th>\n",
       "      <td>I have been using Sensodyne Toothpaste for the...</td>\n",
       "      <td>health personal care</td>\n",
       "    </tr>\n",
       "    <tr>\n",
       "      <th>4003</th>\n",
       "      <td>This adorable, little, green bear is Erin, and...</td>\n",
       "      <td>toys games</td>\n",
       "    </tr>\n",
       "    <tr>\n",
       "      <th>35629</th>\n",
       "      <td>This is such a feminine scent; mysterious ambe...</td>\n",
       "      <td>beauty</td>\n",
       "    </tr>\n",
       "    <tr>\n",
       "      <th>26977</th>\n",
       "      <td>Unless you have legs like a chicken forget thi...</td>\n",
       "      <td>health personal care</td>\n",
       "    </tr>\n",
       "    <tr>\n",
       "      <th>...</th>\n",
       "      <td>...</td>\n",
       "      <td>...</td>\n",
       "    </tr>\n",
       "    <tr>\n",
       "      <th>12047</th>\n",
       "      <td>The Apex Pocket Med Pack with 7 Day Tray solve...</td>\n",
       "      <td>health personal care</td>\n",
       "    </tr>\n",
       "    <tr>\n",
       "      <th>25402</th>\n",
       "      <td>sizes are much smaller than what is recomended...</td>\n",
       "      <td>health personal care</td>\n",
       "    </tr>\n",
       "    <tr>\n",
       "      <th>7323</th>\n",
       "      <td>We bought this for our then 4-year-old - and a...</td>\n",
       "      <td>toys games</td>\n",
       "    </tr>\n",
       "    <tr>\n",
       "      <th>2768</th>\n",
       "      <td>I started off with the Avents. My son had the ...</td>\n",
       "      <td>baby products</td>\n",
       "    </tr>\n",
       "    <tr>\n",
       "      <th>189</th>\n",
       "      <td>I liked the great taste of this mouthwash. The...</td>\n",
       "      <td>health personal care</td>\n",
       "    </tr>\n",
       "  </tbody>\n",
       "</table>\n",
       "<p>40000 rows × 2 columns</p>\n",
       "</div>"
      ],
      "text/plain": [
       "                                                    Text                  Cat1\n",
       "11015  I was looking through the stuff on Amazon the ...  health personal care\n",
       "33137  I have been using Sensodyne Toothpaste for the...  health personal care\n",
       "4003   This adorable, little, green bear is Erin, and...            toys games\n",
       "35629  This is such a feminine scent; mysterious ambe...                beauty\n",
       "26977  Unless you have legs like a chicken forget thi...  health personal care\n",
       "...                                                  ...                   ...\n",
       "12047  The Apex Pocket Med Pack with 7 Day Tray solve...  health personal care\n",
       "25402  sizes are much smaller than what is recomended...  health personal care\n",
       "7323   We bought this for our then 4-year-old - and a...            toys games\n",
       "2768   I started off with the Avents. My son had the ...         baby products\n",
       "189    I liked the great taste of this mouthwash. The...  health personal care\n",
       "\n",
       "[40000 rows x 2 columns]"
      ]
     },
     "execution_count": 5,
     "metadata": {},
     "output_type": "execute_result"
    }
   ],
   "source": [
    "# data needs cleaning\n",
    "df"
   ]
  },
  {
   "cell_type": "code",
   "execution_count": 6,
   "id": "2c84adfb",
   "metadata": {},
   "outputs": [],
   "source": [
    "#remove special characters from df using regular expressions\n",
    "\n",
    "import re\n",
    "p = re.compile(r'[^\\w\\s]+')\n",
    "\n",
    "df['Text'] = [p.sub('', x) for x in df['Text'].tolist()]"
   ]
  },
  {
   "cell_type": "code",
   "execution_count": 7,
   "id": "e8a2cb7b",
   "metadata": {},
   "outputs": [
    {
     "data": {
      "text/html": [
       "<div>\n",
       "<style scoped>\n",
       "    .dataframe tbody tr th:only-of-type {\n",
       "        vertical-align: middle;\n",
       "    }\n",
       "\n",
       "    .dataframe tbody tr th {\n",
       "        vertical-align: top;\n",
       "    }\n",
       "\n",
       "    .dataframe thead th {\n",
       "        text-align: right;\n",
       "    }\n",
       "</style>\n",
       "<table border=\"1\" class=\"dataframe\">\n",
       "  <thead>\n",
       "    <tr style=\"text-align: right;\">\n",
       "      <th></th>\n",
       "      <th>Text</th>\n",
       "      <th>Cat1</th>\n",
       "    </tr>\n",
       "  </thead>\n",
       "  <tbody>\n",
       "    <tr>\n",
       "      <th>11015</th>\n",
       "      <td>i was looking through the stuff on amazon the ...</td>\n",
       "      <td>health personal care</td>\n",
       "    </tr>\n",
       "    <tr>\n",
       "      <th>33137</th>\n",
       "      <td>i have been using sensodyne toothpaste for the...</td>\n",
       "      <td>health personal care</td>\n",
       "    </tr>\n",
       "    <tr>\n",
       "      <th>4003</th>\n",
       "      <td>this adorable little green bear is erin and he...</td>\n",
       "      <td>toys games</td>\n",
       "    </tr>\n",
       "    <tr>\n",
       "      <th>35629</th>\n",
       "      <td>this is such a feminine scent mysterious amber...</td>\n",
       "      <td>beauty</td>\n",
       "    </tr>\n",
       "    <tr>\n",
       "      <th>26977</th>\n",
       "      <td>unless you have legs like a chicken forget thi...</td>\n",
       "      <td>health personal care</td>\n",
       "    </tr>\n",
       "    <tr>\n",
       "      <th>...</th>\n",
       "      <td>...</td>\n",
       "      <td>...</td>\n",
       "    </tr>\n",
       "    <tr>\n",
       "      <th>12047</th>\n",
       "      <td>the apex pocket med pack with 7 day tray solve...</td>\n",
       "      <td>health personal care</td>\n",
       "    </tr>\n",
       "    <tr>\n",
       "      <th>25402</th>\n",
       "      <td>sizes are much smaller than what is recomended...</td>\n",
       "      <td>health personal care</td>\n",
       "    </tr>\n",
       "    <tr>\n",
       "      <th>7323</th>\n",
       "      <td>we bought this for our then 4yearold  and at a...</td>\n",
       "      <td>toys games</td>\n",
       "    </tr>\n",
       "    <tr>\n",
       "      <th>2768</th>\n",
       "      <td>i started off with the avents my son had the h...</td>\n",
       "      <td>baby products</td>\n",
       "    </tr>\n",
       "    <tr>\n",
       "      <th>189</th>\n",
       "      <td>i liked the great taste of this mouthwash the ...</td>\n",
       "      <td>health personal care</td>\n",
       "    </tr>\n",
       "  </tbody>\n",
       "</table>\n",
       "<p>40000 rows × 2 columns</p>\n",
       "</div>"
      ],
      "text/plain": [
       "                                                    Text                  Cat1\n",
       "11015  i was looking through the stuff on amazon the ...  health personal care\n",
       "33137  i have been using sensodyne toothpaste for the...  health personal care\n",
       "4003   this adorable little green bear is erin and he...            toys games\n",
       "35629  this is such a feminine scent mysterious amber...                beauty\n",
       "26977  unless you have legs like a chicken forget thi...  health personal care\n",
       "...                                                  ...                   ...\n",
       "12047  the apex pocket med pack with 7 day tray solve...  health personal care\n",
       "25402  sizes are much smaller than what is recomended...  health personal care\n",
       "7323   we bought this for our then 4yearold  and at a...            toys games\n",
       "2768   i started off with the avents my son had the h...         baby products\n",
       "189    i liked the great taste of this mouthwash the ...  health personal care\n",
       "\n",
       "[40000 rows x 2 columns]"
      ]
     },
     "execution_count": 7,
     "metadata": {},
     "output_type": "execute_result"
    }
   ],
   "source": [
    "# make all characters .lower()\n",
    "\n",
    "df.apply(lambda x: x.astype(str).str.lower())\n"
   ]
  },
  {
   "cell_type": "code",
   "execution_count": 8,
   "id": "3430e969",
   "metadata": {},
   "outputs": [],
   "source": [
    "# train test split\n",
    "x,y = df.Text, df.Cat1\n",
    "train_x, test_x, train_y, test_y = train_test_split(x, y, test_size=0.2, random_state=42)"
   ]
  },
  {
   "cell_type": "code",
   "execution_count": 9,
   "id": "b506d2bf",
   "metadata": {},
   "outputs": [],
   "source": [
    "# build a pipeline \n",
    "\n",
    "pipeline = Pipeline([('vect', TfidfVectorizer(ngram_range=(1,2), stop_words='english', sublinear_tf=True)),\n",
    "                     ('chi', SelectKBest(chi2, k=10000)),\n",
    "                     ('clf', LinearSVC(C=1.0, penalty='l1',max_iter=3000, dual=False))\n",
    "                    ])"
   ]
  },
  {
   "cell_type": "code",
   "execution_count": 10,
   "id": "8cb29016",
   "metadata": {},
   "outputs": [],
   "source": [
    "# fit pipline to our training data\n",
    "\n",
    "model = pipeline.fit(train_x, train_y)"
   ]
  },
  {
   "cell_type": "code",
   "execution_count": 11,
   "id": "94f1ed36",
   "metadata": {},
   "outputs": [
    {
     "name": "stdout",
     "output_type": "stream",
     "text": [
      "accuracy score: 0.84225\n"
     ]
    }
   ],
   "source": [
    "# check accuracy\n",
    "\n",
    "print('accuracy score: '+ str(model.score(test_x, test_y)))"
   ]
  },
  {
   "cell_type": "code",
   "execution_count": 12,
   "id": "eb563b8f",
   "metadata": {},
   "outputs": [
    {
     "name": "stdout",
     "output_type": "stream",
     "text": [
      "['pet supplies']\n"
     ]
    }
   ],
   "source": [
    "print(model.predict(['bone lasted forever, will buy again']))"
   ]
  },
  {
   "cell_type": "code",
   "execution_count": 13,
   "id": "82cd4ac1",
   "metadata": {},
   "outputs": [
    {
     "name": "stdout",
     "output_type": "stream",
     "text": [
      "['beauty']\n"
     ]
    }
   ],
   "source": [
    "print(model.predict(['nice lipstick']))\n"
   ]
  },
  {
   "cell_type": "code",
   "execution_count": null,
   "id": "0e082f4c",
   "metadata": {},
   "outputs": [],
   "source": []
  }
 ],
 "metadata": {
  "kernelspec": {
   "display_name": "Python 3 (ipykernel)",
   "language": "python",
   "name": "python3"
  },
  "language_info": {
   "codemirror_mode": {
    "name": "ipython",
    "version": 3
   },
   "file_extension": ".py",
   "mimetype": "text/x-python",
   "name": "python",
   "nbconvert_exporter": "python",
   "pygments_lexer": "ipython3",
   "version": "3.9.13"
  }
 },
 "nbformat": 4,
 "nbformat_minor": 5
}
